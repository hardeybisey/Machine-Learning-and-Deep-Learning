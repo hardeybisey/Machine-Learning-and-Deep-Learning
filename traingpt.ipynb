{
  "nbformat": 4,
  "nbformat_minor": 0,
  "metadata": {
    "colab": {
      "provenance": [],
      "gpuType": "T4",
      "authorship_tag": "ABX9TyOG+U3/BeyxIsRIhIfTgSLw",
      "include_colab_link": true
    },
    "kernelspec": {
      "name": "python3",
      "display_name": "Python 3"
    },
    "language_info": {
      "name": "python"
    },
    "accelerator": "GPU",
    "gpuClass": "standard"
  },
  "cells": [
    {
      "cell_type": "markdown",
      "metadata": {
        "id": "view-in-github",
        "colab_type": "text"
      },
      "source": [
        "<a href=\"https://colab.research.google.com/github/hardeybisey/neural-network/blob/main/traingpt.ipynb\" target=\"_parent\"><img src=\"https://colab.research.google.com/assets/colab-badge.svg\" alt=\"Open In Colab\"/></a>"
      ]
    },
    {
      "cell_type": "code",
      "execution_count": 1,
      "metadata": {
        "colab": {
          "base_uri": "https://localhost:8080/"
        },
        "id": "gFc7dI40n_6_",
        "outputId": "68e8dd75-14b7-48ed-e915-84dbe85be4e3"
      },
      "outputs": [
        {
          "output_type": "stream",
          "name": "stdout",
          "text": [
            "--2023-05-06 18:15:19--  https://raw.githubusercontent.com/karpathy/char-rnn/master/data/tinyshakespeare/input.txt\n",
            "Resolving raw.githubusercontent.com (raw.githubusercontent.com)... 185.199.108.133, 185.199.109.133, 185.199.110.133, ...\n",
            "Connecting to raw.githubusercontent.com (raw.githubusercontent.com)|185.199.108.133|:443... connected.\n",
            "HTTP request sent, awaiting response... 200 OK\n",
            "Length: 1115394 (1.1M) [text/plain]\n",
            "Saving to: ‘input.txt’\n",
            "\n",
            "\rinput.txt             0%[                    ]       0  --.-KB/s               \rinput.txt           100%[===================>]   1.06M  --.-KB/s    in 0.04s   \n",
            "\n",
            "2023-05-06 18:15:20 (30.4 MB/s) - ‘input.txt’ saved [1115394/1115394]\n",
            "\n"
          ]
        }
      ],
      "source": [
        "# !wget https://raw.githubusercontent.com/karpathy/char-rnn/master/data/tinyshakespeare/input.txt"
      ]
    },
    {
      "cell_type": "markdown",
      "source": [
        "<a href='https://arxiv.org/pdf/1706.03762.pdf'> Attention Paper </a>\n"
      ],
      "metadata": {
        "id": "h7axrG5jGkEc"
      }
    },
    {
      "cell_type": "code",
      "source": [
        "import torch\n",
        "import torch.nn as nn\n",
        "from torch.nn import functional as F\n",
        "torch.manual_seed(42)"
      ],
      "metadata": {
        "colab": {
          "base_uri": "https://localhost:8080/"
        },
        "id": "OhpEyHjpr728",
        "outputId": "a988b238-9530-44f2-d1a5-9f2b9a1ec210"
      },
      "execution_count": 2,
      "outputs": [
        {
          "output_type": "execute_result",
          "data": {
            "text/plain": [
              "<torch._C.Generator at 0x7f5aa32bf730>"
            ]
          },
          "metadata": {},
          "execution_count": 2
        }
      ]
    },
    {
      "cell_type": "code",
      "source": [
        "text = open('input.txt', 'r', encoding='utf-8').read()\n",
        "print(\"length of dataset in characters: \", len(text))\n",
        "print(text[:200])"
      ],
      "metadata": {
        "colab": {
          "base_uri": "https://localhost:8080/"
        },
        "id": "Jcd86bz3osue",
        "outputId": "e443789c-1fd9-46c5-a940-400b2bb4beac"
      },
      "execution_count": 3,
      "outputs": [
        {
          "output_type": "stream",
          "name": "stdout",
          "text": [
            "length of dataset in characters:  1115394\n",
            "First Citizen:\n",
            "Before we proceed any further, hear me speak.\n",
            "\n",
            "All:\n",
            "Speak, speak.\n",
            "\n",
            "First Citizen:\n",
            "You are all resolved rather to die than to famish?\n",
            "\n",
            "All:\n",
            "Resolved. resolved.\n",
            "\n",
            "First Citizen:\n",
            "First, you\n"
          ]
        }
      ]
    },
    {
      "cell_type": "code",
      "source": [
        "chars = sorted(list(set(text)))\n",
        "# create a mapping from characters to integers\n",
        "stoi = {ch:i for i,ch in enumerate(chars)}\n",
        "itos = {i:ch for i,ch in enumerate(chars)}\n",
        "encode = lambda s: [stoi[c] for c in s] \n",
        "decode = lambda l: ''.join([itos[i] for i in l])\n",
        "print(encode(\"hii there\"))\n",
        "print(decode(encode(\"hii there\")))"
      ],
      "metadata": {
        "colab": {
          "base_uri": "https://localhost:8080/"
        },
        "id": "4lVu9lGJoypc",
        "outputId": "75ee5d0b-33c9-4c14-e493-afe693e377cf"
      },
      "execution_count": 4,
      "outputs": [
        {
          "output_type": "stream",
          "name": "stdout",
          "text": [
            "[46, 47, 47, 1, 58, 46, 43, 56, 43]\n",
            "hii there\n"
          ]
        }
      ]
    },
    {
      "cell_type": "code",
      "source": [
        "learning_rate = 2e-4\n",
        "block_layers = 6\n",
        "n_head = 6\n",
        "dropout = 0.25\n",
        "block_size = 256\n",
        "n_emb = 360\n",
        "vocab_size = len(chars)\n",
        "batch_size = 32\n",
        "eval_iters = 200\n",
        "eval_interval = 5000\n",
        "data = torch.tensor(encode(text), dtype=torch.long)\n",
        "device = 'cuda' if torch.cuda.is_available() else 'cpu'\n",
        "n = int(0.9*len(data))"
      ],
      "metadata": {
        "id": "dDKct6AYv-ar"
      },
      "execution_count": 5,
      "outputs": []
    },
    {
      "cell_type": "code",
      "source": [
        "train_data = data[:n]\n",
        "val_data = data[n:]\n",
        "\n",
        "def get_batch(split):\n",
        "    \"\"\"Helper function to get mini bactches\"\"\"\n",
        "    data = train_data if split == 'train' else val_data\n",
        "    ix = torch.randint(len(data) - block_size, (batch_size,))\n",
        "    x = torch.stack([data[i:i+block_size] for i in ix])\n",
        "    y = torch.stack([data[i+1:i+block_size+1] for i in ix])\n",
        "    x, y = x.to(device), y.to(device)\n",
        "    return x, y\n",
        "\n",
        "@torch.no_grad()\n",
        "def estimate_loss():\n",
        "    \"\"\"Helper function for calculating loss\"\"\"\n",
        "    out = {}\n",
        "    model.eval()\n",
        "    for split in ['train', 'val']:\n",
        "        losses = torch.zeros(eval_iters)\n",
        "        for k in range(eval_iters):\n",
        "            X, Y = get_batch(split)\n",
        "            logits, loss = model(X, Y)\n",
        "            losses[k] = loss.item()\n",
        "        out[split] = losses.mean()\n",
        "    model.train()\n",
        "    return out"
      ],
      "metadata": {
        "id": "7hsOgpdorXFz"
      },
      "execution_count": 6,
      "outputs": []
    },
    {
      "cell_type": "code",
      "source": [
        "class Head(nn.Module):\n",
        "    \"\"\" one head of self attention\"\"\"\n",
        "    def __init__(self, head_size, masked=True):\n",
        "        super().__init__()\n",
        "        self.key = nn.Linear(n_emb, head_size, bias=False)\n",
        "        self.query = nn.Linear(n_emb, head_size, bias=False)\n",
        "        self.value = nn.Linear(n_emb, head_size, bias=False)\n",
        "        self.register_buffer('tril', torch.tril(torch.ones(block_size,block_size )))\n",
        "        self.masked = masked\n",
        "        self.dropout = nn.Dropout(dropout)\n",
        "    \n",
        "    def forward(self, x):\n",
        "        B, T, C = x.shape\n",
        "        k = self.key(x) # (B,T,C)\n",
        "        q = self.query(x) # (B,T,C)\n",
        "        v = self.value(x) # (B,T,C)\n",
        "        # compute attention scores, mask it and normalize.\n",
        "        score = q @ k.transpose(-2,-1) * (C**-0.5)# (B,T,C) @ (B,C,T) -> (B,T,T)\n",
        "        if self.masked:\n",
        "          score = score.masked_fill(self.tril[:T,:T] == 0, float('-inf')) # (B,T,T)\n",
        "        score = F.softmax(score, dim = -1)\n",
        "        score = self.dropout(score)\n",
        "        # perform the weighted aggregation of the values\n",
        "        out = score @ v # (B,T,T) @ (B,T,C) -> (B,T,C)\n",
        "        return out\n",
        "\n",
        "class MultiHeadAttention(nn.Module):\n",
        "    \"\"\" multiple heads of self attention \"\"\"\n",
        "    def __init__(self, num_heads, head_size):\n",
        "        super().__init__()\n",
        "        self.heads = nn.ModuleList([Head(head_size) for _ in range(num_heads)])\n",
        "        self.projection = nn.Linear(n_emb,n_emb)\n",
        "        self.dropout = nn.Dropout(dropout)\n",
        "\n",
        "    def forward(self, x):\n",
        "      out = torch.cat([head(x) for head in self.heads], dim=-1)  # (B,T,C)\n",
        "      out = self.projection(out)\n",
        "      out = self.dropout(out)\n",
        "      return out\n",
        "\n",
        "class FeedForward(nn.Module):\n",
        "    \"\"\" feed forward network \"\"\"\n",
        "    def __init__(self, n_emb):\n",
        "        super().__init__()\n",
        "        self.network = nn.Sequential(nn.Linear(n_emb, 4 * n_emb), \n",
        "                                     nn.ReLU(),\n",
        "                                     nn.Linear(4 * n_emb, n_emb),\n",
        "                                     nn.Dropout(dropout))\n",
        "        \n",
        "    def forward(self, x):\n",
        "      return self.network(x)\n",
        "\n",
        "class Block(nn.Module):\n",
        "    def __init__(self, n_emb, n_head):\n",
        "        super().__init__()\n",
        "        head_size = n_emb // n_head\n",
        "        self.satt = MultiHeadAttention(n_head, head_size)\n",
        "        self.ff = FeedForward(n_emb)\n",
        "        self.ln1 = nn.LayerNorm(n_emb)\n",
        "        self.ln2 = nn.LayerNorm(n_emb)\n",
        "\n",
        "    def forward(self, x):\n",
        "        out = x + self.satt(self.ln1(x))\n",
        "        out = out + self.ff(self.ln2(out))\n",
        "        return out"
      ],
      "metadata": {
        "id": "tTkyGaY5b-DS"
      },
      "execution_count": 38,
      "outputs": []
    },
    {
      "cell_type": "code",
      "source": [
        "class BigramLanguageModel(nn.Module):\n",
        "    def __init__(self):\n",
        "        super().__init__()\n",
        "        # each token directly reads off the logits for the next token from a lookup table\n",
        "        self.token_embedding_table = nn.Embedding(vocab_size, n_emb)\n",
        "        self.position_embedding_table = nn.Embedding(block_size, n_emb)\n",
        "        self.lm_head = nn.Linear(n_emb, vocab_size)\n",
        "        self.blocks = nn.Sequential(*[Block(n_emb, n_head=n_head) for _ in range(block_layers)])\n",
        "        self.ln = nn.LayerNorm(n_emb)\n",
        "            \n",
        "        \n",
        "    def forward(self, idx, targets=None):\n",
        "        B , T = idx.shape\n",
        "        token_emb = self.token_embedding_table(idx) #(B,T,C)\n",
        "        pos_emb = self.position_embedding_table(torch.arange(T, device=device)) #(T,C)\n",
        "        x = token_emb + pos_emb  #(B,T,C)\n",
        "        x = self.blocks(x) # (B,T,C)\n",
        "        x = self.ln(x) # (B,T,C)\n",
        "        logits = self.lm_head(x) # (B,T,vocab_size)\n",
        "\n",
        "        if targets is None:\n",
        "            loss = None\n",
        "        else:\n",
        "            B , T , C = logits.shape\n",
        "            logits = logits.view(B*T, C)\n",
        "            targets = targets.view(B*T)\n",
        "            loss = F.cross_entropy(logits, targets)\n",
        "        return logits , loss\n",
        "      \n",
        "    def generate(self, idx, max_new_tokens):\n",
        "        for _ in range(max_new_tokens):\n",
        "            idx_cond = idx[:,-block_size:]\n",
        "            logits, loss = self(idx_cond)\n",
        "            logits = logits[:,-1,:] # (B, C) focus on only the last time step \n",
        "            probs = F.softmax(logits, dim=-1) # (B, C)\n",
        "            idx_next = torch.multinomial(probs, num_samples=1) # (B, 1)\n",
        "            idx = torch.cat((idx,idx_next), dim=1) #append new sampled index to the running context\n",
        "        return idx"
      ],
      "metadata": {
        "id": "9EF7cYpUxL_v"
      },
      "execution_count": 39,
      "outputs": []
    },
    {
      "cell_type": "code",
      "source": [
        "model = BigramLanguageModel()\n",
        "model.to(device)\n",
        "optimizer = torch.optim.Adam(model.parameters(),lr=learning_rate)\n",
        "print(sum(p.numel() for p in model.parameters())/1e6, 'M parameters')"
      ],
      "metadata": {
        "colab": {
          "base_uri": "https://localhost:8080/"
        },
        "id": "qVy9hvm_x05g",
        "outputId": "374a4711-5cd7-41ea-95d4-5c037b1d0a33"
      },
      "execution_count": 40,
      "outputs": [
        {
          "output_type": "stream",
          "name": "stdout",
          "text": [
            "9.492545 M parameters\n"
          ]
        }
      ]
    },
    {
      "cell_type": "code",
      "source": [
        "max_iter = 0\n",
        "for iter in range(max_iter):\n",
        "    if iter % eval_interval == 0:\n",
        "        losses = estimate_loss()\n",
        "        print(f\"step {iter}: train loss {losses['train']:.4f}, val loss {losses['val']:.4f}\")\n",
        "    xb , yb = get_batch('train')\n",
        "    logit , loss = model(xb, yb)\n",
        "    optimizer.zero_grad(set_to_none=True)\n",
        "    loss.backward()\n",
        "    optimizer.step()"
      ],
      "metadata": {
        "id": "XwZ7Ls038gS5"
      },
      "execution_count": 47,
      "outputs": []
    },
    {
      "cell_type": "code",
      "source": [
        "context = torch.zeros((1, 1), dtype=torch.long, device=device)\n",
        "print(decode(model.generate(context, max_new_tokens=500)[0].tolist()))"
      ],
      "metadata": {
        "id": "BGKIKQkW3eNp"
      },
      "execution_count": null,
      "outputs": []
    },
    {
      "cell_type": "markdown",
      "source": [
        "Notes:\n",
        "- Attention is a **communication mechanism**. Can be seen as nodes in a directed graph looking at each other and aggregating information with a weighted sum from all nodes that point to them, with data-dependent weights.\n",
        "- There is no notion of space. Attention simply acts over a set of vectors. This is why we need to positionally encode tokens.\n",
        "- Each example across batch dimension is of course processed completely independently and never \"talk\" to each other\n",
        "- In an \"encoder\" attention block just delete the single line that does masking with `tril`, allowing all tokens to communicate. This block here is called a \"decoder\" attention block because it has triangular masking, and is usually used in autoregressive settings, like language modeling.\n",
        "- \"self-attention\" just means that the keys and values are produced from the same source as queries. In \"cross-attention\", the queries still get produced from x, but the keys and values come from some other, external source (e.g. an encoder module)\n",
        "- \"Scaled\" attention additional divides `wei` by 1/sqrt(head_size). This makes it so when input Q,K are unit variance, wei will be unit variance too and Softmax will stay diffuse and not saturate too much. Illustration below"
      ],
      "metadata": {
        "id": "9Ge5V_nXsyfg"
      }
    },
    {
      "cell_type": "markdown",
      "source": [
        "# saving and loading for inference "
      ],
      "metadata": {
        "id": "vhi78gfLsY0X"
      }
    },
    {
      "cell_type": "code",
      "source": [
        "# torch.save(model.state_dict(), PATH)\n",
        "\n",
        "# # loading\n",
        "\n",
        "# model = BigramLanguageModel() #instantiate model arcitecture\n",
        "# model.load_state_dict(torch.load(PATH))"
      ],
      "metadata": {
        "id": "IIJkKP71sZgp"
      },
      "execution_count": null,
      "outputs": []
    },
    {
      "cell_type": "markdown",
      "source": [
        "# saving and loading to continue training"
      ],
      "metadata": {
        "id": "M-6iwkDsscqq"
      }
    },
    {
      "cell_type": "code",
      "source": [
        "# # saving\n",
        "# torch.save({'model_state_dict': model.state_dict(),\n",
        "#             'optimizer_state_dict': optimizer.state_dict()}, PATH)\n",
        "\n",
        "# # loading\n",
        "# checkpoint = torch.load(PATH, map_location=device)\n",
        "# model = BigramLanguageModel() #instantiate model arcitecture\n",
        "# optimizer = torch.optim.AdamW(model.parameters(), lr=1e-3) #instantiate optimizer\n",
        "# model.load_state_dict(checkpoint['model_state_dict'])\n",
        "# optimizer.load_state_dict(checkpoint['optimizer_state_dict'])"
      ],
      "metadata": {
        "id": "74FFD3OfsffA"
      },
      "execution_count": null,
      "outputs": []
    }
  ]
}