{
  "nbformat": 4,
  "nbformat_minor": 0,
  "metadata": {
    "colab": {
      "provenance": [],
      "gpuType": "T4",
      "authorship_tag": "ABX9TyNQLtbYXepKosaIdlNKyBnd"
    },
    "kernelspec": {
      "name": "python3",
      "display_name": "Python 3"
    },
    "language_info": {
      "name": "python"
    },
    "accelerator": "GPU",
    "gpuClass": "standard"
  },
  "cells": [
    {
      "cell_type": "code",
      "execution_count": null,
      "metadata": {
        "id": "gFc7dI40n_6_"
      },
      "outputs": [],
      "source": [
        "# !wget https://raw.githubusercontent.com/karpathy/char-rnn/master/data/tinyshakespeare/input.txt"
      ]
    },
    {
      "cell_type": "code",
      "source": [
        "import torch\n",
        "import torch.nn as nn\n",
        "from torch.nn import functional as F\n",
        "torch.manual_seed(42)"
      ],
      "metadata": {
        "id": "OhpEyHjpr728"
      },
      "execution_count": null,
      "outputs": []
    },
    {
      "cell_type": "code",
      "source": [
        "text = open('input.txt', 'r', encoding='utf-8').read()\n",
        "print(\"length of dataset in characters: \", len(text))\n",
        "print(text[:200])"
      ],
      "metadata": {
        "id": "Jcd86bz3osue"
      },
      "execution_count": null,
      "outputs": []
    },
    {
      "cell_type": "code",
      "source": [
        "chars = sorted(list(set(text)))\n",
        "# create a mapping from characters to integers\n",
        "stoi = {ch:i for i,ch in enumerate(chars)}\n",
        "itos = {i:ch for i,ch in enumerate(chars)}\n",
        "encode = lambda s: [stoi[c] for c in s] \n",
        "decode = lambda l: ''.join([itos[i] for i in l])\n",
        "print(encode(\"hii there\"))\n",
        "print(decode(encode(\"hii there\")))"
      ],
      "metadata": {
        "id": "4lVu9lGJoypc"
      },
      "execution_count": null,
      "outputs": []
    },
    {
      "cell_type": "code",
      "source": [
        "block_size = 8\n",
        "n_emb = 32\n",
        "vocab_size = len(chars)\n",
        "batch_size = 32\n",
        "eval_iters = 200\n",
        "eval_interval = 5000\n",
        "data = torch.tensor(encode(text), dtype=torch.long)\n",
        "device = 'cuda' if torch.cuda.is_available() else 'cpu'\n",
        "n = int(0.9*len(data))"
      ],
      "metadata": {
        "id": "dDKct6AYv-ar"
      },
      "execution_count": null,
      "outputs": []
    },
    {
      "cell_type": "code",
      "source": [
        "train_data = data[:n]\n",
        "val_data = data[n:]\n",
        "\n",
        "def get_batch(split):\n",
        "    # generate a small batch of data of inputs x and targets y\n",
        "    data = train_data if split == 'train' else val_data\n",
        "    ix = torch.randint(len(data) - block_size, (batch_size,))\n",
        "    x = torch.stack([data[i:i+block_size] for i in ix])\n",
        "    y = torch.stack([data[i+1:i+block_size+1] for i in ix])\n",
        "    x, y = x.to(device), y.to(device)\n",
        "    return x, y\n",
        "\n",
        "@torch.no_grad()\n",
        "def estimate_loss():\n",
        "    out = {}\n",
        "    model.eval()\n",
        "    for split in ['train', 'val']:\n",
        "        losses = torch.zeros(eval_iters)\n",
        "        for k in range(eval_iters):\n",
        "            X, Y = get_batch(split)\n",
        "            logits, loss = model(X, Y)\n",
        "            losses[k] = loss.item()\n",
        "        out[split] = losses.mean()\n",
        "    model.train()\n",
        "    return out"
      ],
      "metadata": {
        "id": "7hsOgpdorXFz"
      },
      "execution_count": null,
      "outputs": []
    },
    {
      "cell_type": "code",
      "source": [
        "class BigramLanguageModel(nn.Module):\n",
        "\n",
        "    def __init__(self):\n",
        "        super().__init__()\n",
        "        # each token directly reads off the logits for the next token from a lookup table\n",
        "        self.token_embedding_table = nn.Embedding(vocab_size, n_emb)\n",
        "        self.position_embedding_table = nn.Embedding(block_size, n_emb)\n",
        "        self.lm_head = nn.Linear(n_emb, vocab_size)\n",
        "        \n",
        "        \n",
        "    def forward(self, idx, targets=None):\n",
        "        B , T = idx.shape\n",
        "        token_emb = self.token_embedding_table(idx) #(B,T,C)\n",
        "        pos_emb = self.position_embedding_table(torch.arange(T, device=device)) #(T,C)\n",
        "        x = token_emb + pos_emb  #(B,T,C)\n",
        "        logits = self.lm_head(x) # (B,T,vocab_size)\n",
        "        if targets is None:\n",
        "            loss = None\n",
        "        else:\n",
        "            B , T , C = logits.shape\n",
        "            logits = logits.view(B*T, C)\n",
        "            targets = targets.view(B*T)\n",
        "            loss = F.cross_entropy(logits, targets)\n",
        "        return logits , loss\n",
        "\n",
        "      \n",
        "    def generate(self, context, max_new_tokens):\n",
        "        for _ in range(max_new_tokens):\n",
        "            logits, _ = self(context)\n",
        "            logits = logits[:,-1,:] #focus on only the last time step\n",
        "            probs = F.softmax(logits, dim=1)\n",
        "            idx = torch.multinomial(probs, num_samples=1)\n",
        "            context = torch.cat((context,idx), dim=1) #append new sampled index to the running context\n",
        "        return context"
      ],
      "metadata": {
        "id": "9EF7cYpUxL_v"
      },
      "execution_count": null,
      "outputs": []
    },
    {
      "cell_type": "code",
      "source": [
        "model = BigramLanguageModel()\n",
        "model.to(device)\n",
        "optimizer = torch.optim.Adam(model.parameters(),lr=1e-3)"
      ],
      "metadata": {
        "id": "qVy9hvm_x05g"
      },
      "execution_count": null,
      "outputs": []
    },
    {
      "cell_type": "code",
      "source": [
        "max_iter = 10\n",
        "for iter in range(max_iter):\n",
        "    if iter % eval_interval == 0:\n",
        "        losses = estimate_loss()\n",
        "        print(f\"step {iter}: train loss {losses['train']:.4f}, val loss {losses['val']:.4f}\")\n",
        "    xb , yb = get_batch('train')\n",
        "    logit , loss = model(xb, yb)\n",
        "    optimizer.zero_grad(set_to_none=True)\n",
        "    loss.backward()\n",
        "    optimizer.step()"
      ],
      "metadata": {
        "id": "XwZ7Ls038gS5"
      },
      "execution_count": null,
      "outputs": []
    },
    {
      "cell_type": "code",
      "source": [
        "context = torch.zeros((1,1), dtype=torch.long, device=device)\n",
        "print(decode(model.generate(context, max_new_tokens=100)[0].tolist()))"
      ],
      "metadata": {
        "id": "BGKIKQkW3eNp"
      },
      "execution_count": null,
      "outputs": []
    },
    {
      "cell_type": "markdown",
      "source": [
        "# saving and loading for inference "
      ],
      "metadata": {
        "id": "vhi78gfLsY0X"
      }
    },
    {
      "cell_type": "code",
      "source": [
        "# torch.save(model.state_dict(), PATH)\n",
        "\n",
        "# # loading\n",
        "\n",
        "# model = BigramLanguageModel() #instantiate model arcitecture\n",
        "# model.load_state_dict(torch.load(PATH))"
      ],
      "metadata": {
        "id": "IIJkKP71sZgp"
      },
      "execution_count": null,
      "outputs": []
    },
    {
      "cell_type": "markdown",
      "source": [
        "# saving and loading to continue training"
      ],
      "metadata": {
        "id": "M-6iwkDsscqq"
      }
    },
    {
      "cell_type": "code",
      "source": [
        "# # saving\n",
        "# torch.save({'model_state_dict': model.state_dict(),\n",
        "#             'optimizer_state_dict': optimizer.state_dict()}, PATH)\n",
        "\n",
        "# # loading\n",
        "# checkpoint = torch.load(PATH, map_location=device)\n",
        "# model = BigramLanguageModel() #instantiate model arcitecture\n",
        "# optimizer = torch.optim.AdamW(model.parameters(), lr=1e-3) #instantiate optimizer\n",
        "# model.load_state_dict(checkpoint['model_state_dict'])\n",
        "# optimizer.load_state_dict(checkpoint['optimizer_state_dict'])"
      ],
      "metadata": {
        "id": "74FFD3OfsffA"
      },
      "execution_count": null,
      "outputs": []
    }
  ]
}