{
  "nbformat": 4,
  "nbformat_minor": 0,
  "metadata": {
    "colab": {
      "provenance": [],
      "gpuType": "T4",
      "authorship_tag": "ABX9TyPB7rBB7Dbnz8DkIffYH92s"
    },
    "kernelspec": {
      "name": "python3",
      "display_name": "Python 3"
    },
    "language_info": {
      "name": "python"
    },
    "accelerator": "GPU",
    "gpuClass": "standard"
  },
  "cells": [
    {
      "cell_type": "code",
      "execution_count": 1,
      "metadata": {
        "id": "gFc7dI40n_6_"
      },
      "outputs": [],
      "source": [
        "# !wget https://raw.githubusercontent.com/karpathy/char-rnn/master/data/tinyshakespeare/input.txt"
      ]
    },
    {
      "cell_type": "code",
      "source": [
        "import torch\n",
        "import torch.nn as nn\n",
        "from torch.nn import functional as F\n",
        "torch.manual_seed(42)"
      ],
      "metadata": {
        "colab": {
          "base_uri": "https://localhost:8080/"
        },
        "id": "OhpEyHjpr728",
        "outputId": "6f611fab-952e-4ac9-ca16-dea21ba1f90c"
      },
      "execution_count": 2,
      "outputs": [
        {
          "output_type": "execute_result",
          "data": {
            "text/plain": [
              "<torch._C.Generator at 0x7fb3f9cd73d0>"
            ]
          },
          "metadata": {},
          "execution_count": 2
        }
      ]
    },
    {
      "cell_type": "code",
      "source": [
        "text = open('input.txt', 'r', encoding='utf-8').read()\n",
        "print(\"length of dataset in characters: \", len(text))\n",
        "print(text[:200])"
      ],
      "metadata": {
        "colab": {
          "base_uri": "https://localhost:8080/"
        },
        "id": "Jcd86bz3osue",
        "outputId": "cfac278b-a7f3-4226-a913-d2dfb3cf5549"
      },
      "execution_count": 3,
      "outputs": [
        {
          "output_type": "stream",
          "name": "stdout",
          "text": [
            "length of dataset in characters:  1115394\n",
            "First Citizen:\n",
            "Before we proceed any further, hear me speak.\n",
            "\n",
            "All:\n",
            "Speak, speak.\n",
            "\n",
            "First Citizen:\n",
            "You are all resolved rather to die than to famish?\n",
            "\n",
            "All:\n",
            "Resolved. resolved.\n",
            "\n",
            "First Citizen:\n",
            "First, you\n"
          ]
        }
      ]
    },
    {
      "cell_type": "code",
      "source": [
        "chars = sorted(list(set(text)))\n",
        "# create a mapping from characters to integers\n",
        "stoi = {ch:i for i,ch in enumerate(chars)}\n",
        "itos = {i:ch for i,ch in enumerate(chars)}\n",
        "encode = lambda s: [stoi[c] for c in s] \n",
        "decode = lambda l: ''.join([itos[i] for i in l])\n",
        "print(encode(\"hii there\"))\n",
        "print(decode(encode(\"hii there\")))"
      ],
      "metadata": {
        "colab": {
          "base_uri": "https://localhost:8080/"
        },
        "id": "4lVu9lGJoypc",
        "outputId": "3b4dadd0-89a2-4f49-af5e-572e7cdce903"
      },
      "execution_count": 4,
      "outputs": [
        {
          "output_type": "stream",
          "name": "stdout",
          "text": [
            "[46, 47, 47, 1, 58, 46, 43, 56, 43]\n",
            "hii there\n"
          ]
        }
      ]
    },
    {
      "cell_type": "code",
      "source": [
        "block_size = 8\n",
        "n_emb = 32\n",
        "vocab_size = len(chars)\n",
        "batch_size = 64\n",
        "eval_iters = 200\n",
        "eval_interval = 5000\n",
        "data = torch.tensor(encode(text), dtype=torch.long)\n",
        "device = 'cuda' if torch.cuda.is_available() else 'cpu'\n",
        "n = int(0.9*len(data))"
      ],
      "metadata": {
        "id": "dDKct6AYv-ar"
      },
      "execution_count": 5,
      "outputs": []
    },
    {
      "cell_type": "code",
      "source": [
        "train_data = data[:n]\n",
        "val_data = data[n:]\n",
        "\n",
        "def get_batch(split):\n",
        "    # generate a small batch of data of inputs x and targets y\n",
        "    data = train_data if split == 'train' else val_data\n",
        "    ix = torch.randint(len(data) - block_size, (batch_size,))\n",
        "    x = torch.stack([data[i:i+block_size] for i in ix])\n",
        "    y = torch.stack([data[i+1:i+block_size+1] for i in ix])\n",
        "    x, y = x.to(device), y.to(device)\n",
        "    return x, y\n",
        "\n",
        "@torch.no_grad()\n",
        "def estimate_loss():\n",
        "    out = {}\n",
        "    model.eval()\n",
        "    for split in ['train', 'val']:\n",
        "        losses = torch.zeros(eval_iters)\n",
        "        for k in range(eval_iters):\n",
        "            X, Y = get_batch(split)\n",
        "            logits, loss = model(X, Y)\n",
        "            losses[k] = loss.item()\n",
        "        out[split] = losses.mean()\n",
        "    model.train()\n",
        "    return out"
      ],
      "metadata": {
        "id": "7hsOgpdorXFz"
      },
      "execution_count": 6,
      "outputs": []
    },
    {
      "cell_type": "code",
      "source": [
        "class Head(nn.Module):\n",
        "\n",
        "    def __init__(self, head_size):\n",
        "        super().__init__()\n",
        "        self.key = nn.Linear(n_emb, head_size, bias=False)\n",
        "        self.query = nn.Linear(n_emb, head_size, bias=False)\n",
        "        self.value = nn.Linear(n_emb, head_size, bias=False)\n",
        "        self.register_buffer('tril', torch.tril(torch.ones(block_size,block_size )))\n",
        "    \n",
        "    def forward(self, x):\n",
        "        B, T, C = x.shape\n",
        "        k = self.key(x) # (B,T,C)\n",
        "        q = self.query(x) # (B,T,C)\n",
        "        v = self.value(x) # (B,T,C)\n",
        "        # compute attention scores, mask it and normalize.\n",
        "        score = q @ k.transpose(-2,-1) * (C**-0.5)# (B,T,C) @ (B,C,T) -> (B,T,T)\n",
        "        score = score.masked_fill(self.tril[:T,:T]==0, float('-inf')) # (B,T,T)\n",
        "        score = F.softmax(score, dim=1)\n",
        "        # perform the weighted aggregation of the values\n",
        "        out = score @ v # (B,T,T) @ (B,T,C) -> (B,T,C)\n",
        "        return out\n",
        "\n",
        "class MultiHeadAttention(nn.Module):\n",
        "\n",
        "    def __init__(self, num_heads, head_size):\n",
        "        super().__init__()\n",
        "        self.heads = nn.ModuleList([Head(head_size) for _ in range(num_heads)])\n",
        "\n",
        "    def forward(self, x):\n",
        "      return torch.cat([head(x) for head in self.heads], dim=1)  # (B,T,C)\n"
      ],
      "metadata": {
        "id": "tTkyGaY5b-DS"
      },
      "execution_count": 90,
      "outputs": []
    },
    {
      "cell_type": "code",
      "source": [
        "class BigramLanguageModel(nn.Module):\n",
        "\n",
        "    def __init__(self):\n",
        "        super().__init__()\n",
        "        # each token directly reads off the logits for the next token from a lookup table\n",
        "        self.token_embedding_table = nn.Embedding(vocab_size, n_emb)\n",
        "        self.position_embedding_table = nn.Embedding(block_size, n_emb)\n",
        "        # self.sa_heads = MultiHeadAttention(4, n_emb//4) # i.e 4 heads of 8-dim self attention\n",
        "        self.sa_heads = Head(n_emb)\n",
        "        self.lm_head = nn.Linear(n_emb, vocab_size)\n",
        "        \n",
        "        \n",
        "    def forward(self, idx, targets=None):\n",
        "        B , T = idx.shape\n",
        "        token_emb = self.token_embedding_table(idx) #(B,T,C)\n",
        "        pos_emb = self.position_embedding_table(torch.arange(T, device=device)) #(T,C)\n",
        "        x = token_emb + pos_emb  #(B,T,C)\n",
        "        x = self.sa_heads(x) # (B,T,C)\n",
        "        logits = self.lm_head(x) # (B,T,vocab_size)\n",
        "\n",
        "        if targets is None:\n",
        "            loss = None\n",
        "        else:\n",
        "            B , T , C = logits.shape\n",
        "            logits = logits.view(B*T, C)\n",
        "            targets = targets.view(B*T)\n",
        "            loss = F.cross_entropy(logits, targets)\n",
        "        return logits , loss\n",
        "      \n",
        "    def generate(self, idx, max_new_tokens):\n",
        "        for _ in range(max_new_tokens):\n",
        "            idx_cond = idx[:,-block_size:]\n",
        "            logits, _ = self(idx_cond)\n",
        "            logits = logits[:,-1,:] #focus on only the last time step\n",
        "            probs = F.softmax(logits, dim=1)\n",
        "            idx_next = torch.multinomial(probs, num_samples=1)\n",
        "            idx = torch.cat((idx,idx_next), dim=1) #append new sampled index to the running context\n",
        "        return idx"
      ],
      "metadata": {
        "id": "9EF7cYpUxL_v"
      },
      "execution_count": 105,
      "outputs": []
    },
    {
      "cell_type": "code",
      "source": [
        "model = BigramLanguageModel()\n",
        "model.to(device)\n",
        "optimizer = torch.optim.Adam(model.parameters(),lr=1e-3)"
      ],
      "metadata": {
        "id": "qVy9hvm_x05g"
      },
      "execution_count": 106,
      "outputs": []
    },
    {
      "cell_type": "code",
      "source": [
        "max_iter = 10000\n",
        "for iter in range(max_iter):\n",
        "    if iter % eval_interval == 0:\n",
        "        losses = estimate_loss()\n",
        "        print(f\"step {iter}: train loss {losses['train']:.4f}, val loss {losses['val']:.4f}\")\n",
        "    xb , yb = get_batch('train')\n",
        "    logit , loss = model(xb, yb)\n",
        "    optimizer.zero_grad(set_to_none=True)\n",
        "    loss.backward()\n",
        "    optimizer.step()"
      ],
      "metadata": {
        "colab": {
          "base_uri": "https://localhost:8080/"
        },
        "id": "XwZ7Ls038gS5",
        "outputId": "73c7170f-69a6-42c6-985c-101bbd911f3d"
      },
      "execution_count": 108,
      "outputs": [
        {
          "output_type": "stream",
          "name": "stdout",
          "text": [
            "step 0: train loss 4.0781, val loss 4.0848\n",
            "step 5000: train loss 2.1013, val loss 2.1212\n"
          ]
        }
      ]
    },
    {
      "cell_type": "code",
      "source": [
        "context = torch.zeros((1,1), dtype=torch.long, device=device)\n",
        "print(decode(model.generate(context, max_new_tokens=100)[0].tolist()))"
      ],
      "metadata": {
        "id": "BGKIKQkW3eNp"
      },
      "execution_count": 10,
      "outputs": []
    },
    {
      "cell_type": "markdown",
      "source": [
        "# saving and loading for inference "
      ],
      "metadata": {
        "id": "vhi78gfLsY0X"
      }
    },
    {
      "cell_type": "markdown",
      "source": [
        "Notes:\n",
        "- Attention is a **communication mechanism**. Can be seen as nodes in a directed graph looking at each other and aggregating information with a weighted sum from all nodes that point to them, with data-dependent weights.\n",
        "- There is no notion of space. Attention simply acts over a set of vectors. This is why we need to positionally encode tokens.\n",
        "- Each example across batch dimension is of course processed completely independently and never \"talk\" to each other\n",
        "- In an \"encoder\" attention block just delete the single line that does masking with `tril`, allowing all tokens to communicate. This block here is called a \"decoder\" attention block because it has triangular masking, and is usually used in autoregressive settings, like language modeling.\n",
        "- \"self-attention\" just means that the keys and values are produced from the same source as queries. In \"cross-attention\", the queries still get produced from x, but the keys and values come from some other, external source (e.g. an encoder module)\n",
        "- \"Scaled\" attention additional divides `wei` by 1/sqrt(head_size). This makes it so when input Q,K are unit variance, wei will be unit variance too and Softmax will stay diffuse and not saturate too much. Illustration below"
      ],
      "metadata": {
        "id": "rXIoAXYJan7p"
      }
    },
    {
      "cell_type": "code",
      "source": [
        "# torch.save(model.state_dict(), PATH)\n",
        "\n",
        "# # loading\n",
        "\n",
        "# model = BigramLanguageModel() #instantiate model arcitecture\n",
        "# model.load_state_dict(torch.load(PATH))"
      ],
      "metadata": {
        "id": "IIJkKP71sZgp"
      },
      "execution_count": 12,
      "outputs": []
    },
    {
      "cell_type": "markdown",
      "source": [
        "# saving and loading to continue training"
      ],
      "metadata": {
        "id": "M-6iwkDsscqq"
      }
    },
    {
      "cell_type": "code",
      "source": [
        "# # saving\n",
        "# torch.save({'model_state_dict': model.state_dict(),\n",
        "#             'optimizer_state_dict': optimizer.state_dict()}, PATH)\n",
        "\n",
        "# # loading\n",
        "# checkpoint = torch.load(PATH, map_location=device)\n",
        "# model = BigramLanguageModel() #instantiate model arcitecture\n",
        "# optimizer = torch.optim.AdamW(model.parameters(), lr=1e-3) #instantiate optimizer\n",
        "# model.load_state_dict(checkpoint['model_state_dict'])\n",
        "# optimizer.load_state_dict(checkpoint['optimizer_state_dict'])"
      ],
      "metadata": {
        "id": "74FFD3OfsffA"
      },
      "execution_count": 13,
      "outputs": []
    }
  ]
}