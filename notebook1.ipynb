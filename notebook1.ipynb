{
 "cells": [
  {
   "cell_type": "code",
   "execution_count": 10,
   "metadata": {},
   "outputs": [],
   "source": [
    "# !wget https://raw.githubusercontent.com/karpathy/makemore/master/names.txt"
   ]
  },
  {
   "attachments": {},
   "cell_type": "markdown",
   "metadata": {},
   "source": [
    "<a href=https://arxiv.org/pdf/1609.03499.pdf> Wave Net</a>"
   ]
  },
  {
   "cell_type": "code",
   "execution_count": 11,
   "metadata": {},
   "outputs": [],
   "source": [
    "import torch\n",
    "import random\n",
    "import torch.nn.functional as F\n",
    "import matplotlib.pyplot as plt\n",
    "torch.manual_seed(42);\n",
    "random.seed(42);"
   ]
  },
  {
   "cell_type": "code",
   "execution_count": 12,
   "metadata": {},
   "outputs": [],
   "source": [
    "words = open('names.txt').read().split()\n",
    "vocab = sorted(list(set(''.join(words))))\n",
    "stoi = {ch:i+1 for i,ch in enumerate(vocab)}\n",
    "stoi['.'] = 0\n",
    "itos = {i:ch for ch,i in stoi.items()}\n",
    "encode = lambda x: [stoi[i] for i in x]\n",
    "decode = lambda x: ''.join([itos[i] for i in x])"
   ]
  },
  {
   "cell_type": "code",
   "execution_count": 13,
   "metadata": {},
   "outputs": [
    {
     "name": "stdout",
     "output_type": "stream",
     "text": [
      "torch.Size([182625, 8]) torch.Size([182625])\n",
      "torch.Size([22655, 8]) torch.Size([22655])\n",
      "torch.Size([22866, 8]) torch.Size([22866])\n"
     ]
    }
   ],
   "source": [
    "block_size = 8\n",
    "def build_data(words):\n",
    "    X, Y = [], []\n",
    "    for word in words:\n",
    "        context = [0] * block_size\n",
    "        for char in word + '.':\n",
    "            ix = stoi[char]\n",
    "            X.append(context)\n",
    "            Y.append(ix)\n",
    "            context = context[1:] + [ix]\n",
    "    X = torch.tensor(X)\n",
    "    Y = torch.tensor(Y)\n",
    "    print(X.shape, Y.shape)\n",
    "    return X, Y\n",
    "\n",
    "random.shuffle(words)\n",
    "n1 = int(len(words) * 0.8)\n",
    "n2 = int(len(words) * 0.9)\n",
    "Xtr, Ytr = build_data(words[:n1])\n",
    "Xte, Yte =  build_data(words[n1:n2])\n",
    "Xdev , Ydev = build_data(words[n2:])"
   ]
  },
  {
   "cell_type": "code",
   "execution_count": 14,
   "metadata": {},
   "outputs": [],
   "source": [
    "class Linear:\n",
    "    def __init__(self, IN, OUT, bias=True):\n",
    "        self.weight = torch.randn(IN, OUT) / IN ** 0.5 \n",
    "        self.bias = torch.zeros(OUT) if bias else None\n",
    "    \n",
    "    def __call__(self, x):\n",
    "        self.out = x @ self.weight \n",
    "        if self.bias is not None:\n",
    "            self.out += self.bias\n",
    "        return self.out\n",
    "            \n",
    "    def parameters(self):\n",
    "        return [self.weight] + ([] if self.bias is None else [self.bias])\n",
    "\n",
    "class BatchNorm1d:\n",
    "    def __init__(self, dim, eps=1e-5, momentum=0.1):\n",
    "        self.momentum = momentum\n",
    "        self.training = True\n",
    "        self.eps = eps\n",
    "        self.gamma = torch.ones(dim)\n",
    "        self.beta = torch.zeros(dim)\n",
    "        self.running_mean = torch.zeros(dim)\n",
    "        self.running_var = torch.ones(dim)\n",
    "        \n",
    "    def __call__(self, x):\n",
    "        if x.ndim == 2:\n",
    "            dim = 0\n",
    "        if x.ndim == 3:\n",
    "            dim = (0,1)\n",
    "        if self.training:\n",
    "            xmean = x.mean(dim,keepdim=True)\n",
    "            xvar = x.var(dim,keepdim=True)\n",
    "        else:\n",
    "            xmean = self.running_mean\n",
    "            xvar = self.running_var\n",
    "        xnorm = (x - xmean) / torch.sqrt(xvar + self.eps)\n",
    "        self.out = self.gamma * xnorm + self.beta\n",
    "        if self.training:\n",
    "            with torch.no_grad():\n",
    "                self.running_mean = (1- self.momentum) * self.running_mean +  self.momentum * xmean\n",
    "                self.running_var = (1- self.momentum)  * self.running_var +  self.momentum * xvar\n",
    "        return self.out\n",
    "    \n",
    "    def parameters(self):\n",
    "        return [self.gamma, self.beta]\n",
    "\n",
    "class Embedding:\n",
    "    def __init__(self, num_embeddding, embedding_dim):\n",
    "        self.weight = torch.randn(num_embeddding, embedding_dim)\n",
    "    \n",
    "    def __call__(self, x):\n",
    "        self.out = self.weight[x]\n",
    "        return self.out\n",
    "    \n",
    "    def parameters(self):\n",
    "        return [self.weight]\n",
    "\n",
    "class FlattenConsecutive:\n",
    "    def __init__(self, n):\n",
    "        self.n = n\n",
    "        \n",
    "    def __call__(self, x):\n",
    "        B, T, C = x.shape\n",
    "        x = x.view(B, T // self.n , C * self.n)\n",
    "        if x.shape[1] == 1:\n",
    "            x = x.squeeze(1)\n",
    "        self.out = x\n",
    "        return self.out\n",
    "    \n",
    "    def parameters(self):\n",
    "        return []\n",
    "    \n",
    "class Tanh:\n",
    "    def __call__(self, x):\n",
    "        self.out = torch.tanh(x)\n",
    "        return self.out\n",
    "    \n",
    "    def parameters(self):\n",
    "        return []\n",
    "    \n",
    "class Sequential:\n",
    "    def __init__(self, layers):\n",
    "        self.layers = layers\n",
    "    \n",
    "    def __call__(self, x):\n",
    "        for layer in self.layers:\n",
    "            x = layer(x)\n",
    "        return x\n",
    "    \n",
    "    def parameters(self):\n",
    "        params = []\n",
    "        for layer in self.layers:\n",
    "            params += layer.parameters()\n",
    "        return params\n",
    "    \n",
    "    def eval(self):\n",
    "        for layer in self.layers:\n",
    "            layer.training = False\n",
    "            \n",
    "    def train(self):\n",
    "        for layer in self.layers:\n",
    "            layer.training = True\n",
    "            \n",
    "    def zero_grad(self):\n",
    "        for p in self.parameters():\n",
    "            p.grad = None"
   ]
  },
  {
   "cell_type": "code",
   "execution_count": 15,
   "metadata": {},
   "outputs": [
    {
     "name": "stdout",
     "output_type": "stream",
     "text": [
      "175167\n"
     ]
    }
   ],
   "source": [
    "n_embd = 20\n",
    "n_hidden = 200\n",
    "vocab_size = len(stoi)\n",
    "\n",
    "model = Sequential([Embedding(vocab_size, n_embd), \n",
    "                    FlattenConsecutive(2), Linear(n_embd * 2, n_hidden, bias =False),BatchNorm1d(n_hidden), Tanh(), \n",
    "                    FlattenConsecutive(2), Linear(n_hidden * 2, n_hidden, bias =False),BatchNorm1d(n_hidden), Tanh(), \n",
    "                    FlattenConsecutive(2), Linear(n_hidden * 2, n_hidden, bias =False),BatchNorm1d(n_hidden), Tanh(), \n",
    "                    Linear(n_hidden, vocab_size)])\n",
    "\n",
    "with torch.no_grad():\n",
    "    model.layers[-1].weight *=0.1 # makes the initial output distribution more uniform\n",
    "parameters = model.parameters()\n",
    "print(sum(p.numel() for p in parameters))\n",
    "for p in parameters:\n",
    "    p.requires_grad = True"
   ]
  },
  {
   "cell_type": "code",
   "execution_count": 17,
   "metadata": {},
   "outputs": [
    {
     "name": "stdout",
     "output_type": "stream",
     "text": [
      ". 0/100000   : 3.2951\n",
      ". 10000/100000   : 2.3493\n",
      ". 20000/100000   : 1.8240\n",
      ". 30000/100000   : 1.7939\n",
      ". 40000/100000   : 2.2230\n",
      ". 50000/100000   : 1.7204\n",
      ". 60000/100000   : 2.1749\n",
      ". 70000/100000   : 1.8199\n",
      ". 80000/100000   : 1.5342\n",
      ". 90000/100000   : 1.8872\n"
     ]
    }
   ],
   "source": [
    "max_steps = 100000\n",
    "batch_size = 32\n",
    "lossi = []\n",
    "lr = 0.01\n",
    "model.train()\n",
    "for i in range(max_steps):\n",
    "    ix = torch.randint(0, Xtr.shape[0], (batch_size,))\n",
    "    Xb , Yb = Xtr[ix], Ytr[ix]\n",
    "    logits = model(Xb)\n",
    "    loss = F.cross_entropy(logits, Yb)\n",
    "    #backward pass\n",
    "    model.zero_grad()\n",
    "    loss.backward()\n",
    "    # update parameters\n",
    "    for p in parameters:\n",
    "        p.data -= p.grad * lr\n",
    "    if i%10000==0:\n",
    "        print(f\". {i}/{max_steps}   : {loss.item():.4f}\")\n",
    "    lossi.append(loss.log10().item())"
   ]
  },
  {
   "cell_type": "code",
   "execution_count": 22,
   "metadata": {},
   "outputs": [
    {
     "data": {
      "image/png": "[encoded data removed]",
      "text/plain": [
       "<Figure size 640x480 with 1 Axes>"
      ]
     },
     "metadata": {},
     "output_type": "display_data"
    }
   ],
   "source": [
    "plt.plot(torch.tensor(lossi).view(-1,500).mean(1));"
   ]
  },
  {
   "cell_type": "code",
   "execution_count": 23,
   "metadata": {},
   "outputs": [
    {
     "name": "stdout",
     "output_type": "stream",
     "text": [
      "train 1.890114665031433\n",
      "val 2.0142948627471924\n"
     ]
    }
   ],
   "source": [
    "model.eval()\n",
    "@torch.no_grad() # this decorator disables gradient tracking\n",
    "def split_loss(split):\n",
    "  x,y = {\n",
    "    'train': (Xtr, Ytr),\n",
    "    'val': (Xdev, Ydev),\n",
    "    'test': (Xte, Yte),\n",
    "  }[split]\n",
    "  logits = model(x)\n",
    "  loss = F.cross_entropy(logits, y)\n",
    "  print(split, loss.item())\n",
    "\n",
    "split_loss('train')\n",
    "split_loss('val')"
   ]
  },
  {
   "cell_type": "code",
   "execution_count": 31,
   "metadata": {},
   "outputs": [
    {
     "name": "stdout",
     "output_type": "stream",
     "text": [
      "laevin\n",
      "cheng\n",
      "uriel\n",
      "rever\n",
      "crus\n",
      "miome\n",
      "jemisy\n",
      "wyla\n",
      "jayziah\n",
      "rozelle\n",
      "taz\n",
      "gilda\n",
      "dacel\n",
      "thalyn\n",
      "vinicio\n",
      "keyarah\n",
      "hollen\n",
      "myrhik\n",
      "zoesta\n",
      "shanad\n"
     ]
    }
   ],
   "source": [
    "for _ in range(20):\n",
    "    out = []\n",
    "    context = [0] * block_size # initialize with all ...\n",
    "    while True:\n",
    "      logits = model(torch.tensor([context]))\n",
    "      probs = F.softmax(logits, dim=1)\n",
    "      # sample from the distribution\n",
    "      ix = torch.multinomial(probs, num_samples=1).item()\n",
    "      # shift the context window and track the samples\n",
    "      context = context[1:] + [ix]\n",
    "      # if we sample the special '.' token, break\n",
    "      if ix == 0:\n",
    "        break\n",
    "      out.append(ix)\n",
    "    print(''.join(itos[i] for i in out))"
   ]
  },
  {
   "cell_type": "code",
   "execution_count": 21,
   "metadata": {},
   "outputs": [],
   "source": [
    "# ix = torch.randint(0, Xte.shape[0], (4,))\n",
    "# Xb , Yb = Xte[ix], Yte[ix]\n",
    "# logits = model(Xb)\n",
    "# logits.shape , Xb.shape\n",
    "# for layer in model.layers:\n",
    "#     print(layer.__class__.__name__, tuple(layer.out.shape))\n",
    "\n",
    "\n",
    "# plt.figure(figsize=(20,5))\n",
    "# legends = []\n",
    "# for i, layer in enumerate(Layers[:-1]): # note: exclude the output layer\n",
    "#   if isinstance(layer, Tanh):\n",
    "#     t = layer.out\n",
    "#     print('layer %d (%10s): mean %+.2f, std %.2f, saturated: %.2f%%' % (i, layer.__class__.__name__, t.mean(), t.std(), (t.abs() > 0.97).float().mean()*100))\n",
    "#     hy, hx = torch.histogram(t, density=True)\n",
    "#     plt.plot(hx[:-1].detach(), hy.detach())\n",
    "#     legends.append(f'layer {i} ({layer.__class__.__name__}')\n",
    "# plt.legend(legends);\n",
    "# plt.title('activation distribution')\n",
    "\n",
    "\n",
    "# # visualize histograms\n",
    "# plt.figure(figsize=(20, 4)) # width and height of the plot\n",
    "# legends = []\n",
    "# for i,p in enumerate(parameters):\n",
    "#   t = p.grad\n",
    "#   if p.ndim == 2:\n",
    "#     print('weight %10s | mean %+f | std %e | grad:data ratio %e' % (tuple(p.shape), t.mean(), t.std(), t.std() / p.std()))\n",
    "#     hy, hx = torch.histogram(t, density=True)\n",
    "#     plt.plot(hx[:-1].detach(), hy.detach())\n",
    "#     legends.append(f'{i} {tuple(p.shape)}')\n",
    "# plt.legend(legends)\n",
    "# plt.title('weights gradient distribution');\n",
    "\n",
    "\n",
    "\n",
    "# # visualize histograms\n",
    "# plt.figure(figsize=(20, 4)) # width and height of the plot\n",
    "# legends = []\n",
    "# for i, layer in enumerate(Layers[:-1]): # note: exclude the output layer\n",
    "#   if isinstance(layer, Tanh):\n",
    "#     t = layer.out.grad\n",
    "#     print('layer %d (%10s): mean %+f, std %e' % (i, layer.__class__.__name__, t.mean(), t.std()))\n",
    "#     hy, hx = torch.histogram(t, density=True)\n",
    "#     plt.plot(hx[:-1].detach(), hy.detach())\n",
    "#     legends.append(f'layer {i} ({layer.__class__.__name__}')\n",
    "# plt.legend(legends);\n",
    "# plt.title('gradient distribution')\n",
    "\n",
    "\n",
    "# plt.figure(figsize=(20, 4))\n",
    "# legends = []\n",
    "# for i,p in enumerate(parameters):\n",
    "#   if p.ndim == 2:\n",
    "#     plt.plot([ud[j][i] for j in range(len(ud))])\n",
    "#     legends.append('param %d' % i)\n",
    "# plt.plot([0, len(ud)], [-3, -3], 'k') # these ratios should be ~1e-3, indicate on plot\n",
    "# plt.legend(legends);"
   ]
  }
 ],
 "metadata": {
  "kernelspec": {
   "display_name": "Python 3",
   "language": "python",
   "name": "python3"
  },
  "language_info": {
   "codemirror_mode": {
    "name": "ipython",
    "version": 3
   },
   "file_extension": ".py",
   "mimetype": "text/x-python",
   "name": "python",
   "nbconvert_exporter": "python",
   "pygments_lexer": "ipython3",
   "version": "3.10.4"
  },
  "orig_nbformat": 4
 },
 "nbformat": 4,
 "nbformat_minor": 2
}
